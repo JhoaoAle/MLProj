{
 "cells": [
  {
   "cell_type": "markdown",
   "id": "1084c2ad-fa1c-4766-a1e0-32a909b4eb88",
   "metadata": {},
   "source": [
    "## Limpieza y preprocesamiento de los datos"
   ]
  },
  {
   "cell_type": "markdown",
   "id": "e807281a-5651-4f11-85d4-4621dd685256",
   "metadata": {},
   "source": [
    "### ¿Qué son los datos estructurados?"
   ]
  },
  {
   "cell_type": "markdown",
   "id": "424ce53e-594e-4293-82e0-b23f14d501f2",
   "metadata": {},
   "source": [
    "#### Definición\n",
    "Son aquellos que están organizados en un formato predefinido, facilitando su búsqueda y manipulación. Comúnmente están almacenados en tablas de bases de datos o en hojas de cálculo.\n",
    "\n",
    "#### Ejemplos\n",
    "Bases de datos SQL, hojas de excel, csv donde las columnas son variables y las filas registros.\n",
    "\n",
    "#### Importancia\n",
    "Facilita el análisis automatizado y la generación de informes. Son esenciales para operaciones masivas de datos y para el entrenamiento de modelos de aprendizaje automático"
   ]
  },
  {
   "cell_type": "markdown",
   "id": "7e31c5c1-24f8-4340-81a6-0b1f93d51dc3",
   "metadata": {},
   "source": [
    "### Características Principales"
   ]
  },
  {
   "cell_type": "markdown",
   "id": "88d59030-bed5-4d8c-b595-2f851f406de8",
   "metadata": {},
   "source": [
    "- Formato estándar\n",
    "- Faciliad de acceso\n",
    "- Escalabilidad\n",
    "- Interoperabilidad"
   ]
  },
  {
   "cell_type": "markdown",
   "id": "0bdd93b0-113d-40ef-87d7-5ccd4e8bc3bc",
   "metadata": {},
   "source": [
    "### Recomendaciones\n",
    "\n",
    "- Claridad en la estructura\n",
    "    - Cada columna debe tener un encabezado descriptivo único. Se recomienda no usar espacios, tildes o caracteres especiales si se va a utilizar algún software estadístico\n",
    "    - Cada fila representa un único registro u observación\n",
    "\n",
    "- Consistencia en los datos\n",
    "    - Utilizar el mismo formato para datos similares\n",
    "    - Mantener la misma unidad de medida en las observaciones\n",
    "\n",
    "- Limpieza de datos\n",
    "    - Eliminar o corregir registos duplicados o erróneos."
   ]
  },
  {
   "cell_type": "code",
   "execution_count": null,
   "id": "de79fbe9-7bd6-4f45-8325-84e644ae0ba1",
   "metadata": {},
   "outputs": [],
   "source": []
  }
 ],
 "metadata": {
  "kernelspec": {
   "display_name": "Python 3 (ipykernel)",
   "language": "python",
   "name": "python3"
  },
  "language_info": {
   "codemirror_mode": {
    "name": "ipython",
    "version": 3
   },
   "file_extension": ".py",
   "mimetype": "text/x-python",
   "name": "python",
   "nbconvert_exporter": "python",
   "pygments_lexer": "ipython3",
   "version": "3.10.16"
  }
 },
 "nbformat": 4,
 "nbformat_minor": 5
}
